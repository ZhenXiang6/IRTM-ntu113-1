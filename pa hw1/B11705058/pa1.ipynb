{
 "cells": [
  {
   "cell_type": "code",
   "execution_count": 1,
   "metadata": {},
   "outputs": [],
   "source": [
    "# pip install nltk"
   ]
  },
  {
   "cell_type": "code",
   "execution_count": 2,
   "metadata": {},
   "outputs": [
    {
     "name": "stdout",
     "output_type": "stream",
     "text": [
      "the white house is also keeping a close watch on yugoslavia, where \n",
      "opposition forces are about to step up the pressure on president slobodan \n",
      "milosevic. but will it work? nbc's jim maceda is in belgrade tonight. \n",
      "serbia on the eve of a general strike. this two-hour roadblock is \n",
      "just a taste of what will come tomorrow, says the opposition, when \n",
      "a nationwide work stoppage is to begin. the purpose, to force out \n",
      "the man they say stole the presidential election, slobodan milosevic. \n",
      "the people don't accept to be victim and to be hostage of one person, \n",
      "milosevic. time is working against him now. but will the pressure \n",
      "work? four years ago, hundreds of thousands of serbs marched against \n",
      "milosevic calling for a general strike as well. the protest lasted \n",
      "three months, but milosevic survived. that's the real question. does \n",
      "the opposition have the power to confront the regime with its combined \n",
      "wealth to get rid of it? a case in point. these coal mine, the very \n",
      "heart of serbia's economy, now on strike, only a handful of workers \n",
      "guarding equipment. but with a week of electricity reserves, these \n",
      "engineers are worried about blackouts. \"we're just making a gesture \n",
      "to try to make this regime come to its senses.\" there are difficulties, \n",
      "too, spreading the word about the strike. independent radio station \n",
      "b-292 has been shut down three times. its signal jammed in belgrade \n",
      "leaving journalists frustrated. i'm waiting for a better time when \n",
      "people in belgrade can hear and listening my radio. poorly organized \n",
      "opposition rallies have been shrinking, now drawing barely 10,000 \n",
      "in belgrade. but opposition leaders hope all that will change tomorrow \n",
      "and civil disobedience throughout the land may give new life to their \n",
      "struggle to oust milosevic. jim maceda, nbc news, belgrade.\n"
     ]
    }
   ],
   "source": [
    "with open('./1.txt', 'r') as file:\n",
    "    content = file.read()\n",
    "    print(content)"
   ]
  },
  {
   "cell_type": "code",
   "execution_count": 3,
   "metadata": {},
   "outputs": [
    {
     "name": "stdout",
     "output_type": "stream",
     "text": [
      "['the', 'white', 'house', 'is', 'also', 'keeping', 'a', 'close', 'watch', 'on', 'yugoslavia', 'where', 'opposition', 'forces', 'are', 'about', 'to', 'step', 'up', 'the', 'pressure', 'on', 'president', 'slobodan', 'milosevic', 'but', 'will', 'it', 'work', 'nbc', 's', 'jim', 'maceda', 'is', 'in', 'belgrade', 'tonight', 'serbia', 'on', 'the', 'eve', 'of', 'a', 'general', 'strike', 'this', 'two-hour', 'roadblock', 'is', 'just', 'a', 'taste', 'of', 'what', 'will', 'come', 'tomorrow', 'says', 'the', 'opposition', 'when', 'a', 'nationwide', 'work', 'stoppage', 'is', 'to', 'begin', 'the', 'purpose', 'to', 'force', 'out', 'the', 'man', 'they', 'say', 'stole', 'the', 'presidential', 'election', 'slobodan', 'milosevic', 'the', 'people', 'don', 't', 'accept', 'to', 'be', 'victim', 'and', 'to', 'be', 'hostage', 'of', 'one', 'person', 'milosevic', 'time', 'is', 'working', 'against', 'him', 'now', 'but', 'will', 'the', 'pressure', 'work', 'four', 'years', 'ago', 'hundreds', 'of', 'thousands', 'of', 'serbs', 'marched', 'against', 'milosevic', 'calling', 'for', 'a', 'general', 'strike', 'as', 'well', 'the', 'protest', 'lasted', 'three', 'months', 'but', 'milosevic', 'survived', 'that', 's', 'the', 'real', 'question', 'does', 'the', 'opposition', 'have', 'the', 'power', 'to', 'confront', 'the', 'regime', 'with', 'its', 'combined', 'wealth', 'to', 'get', 'rid', 'of', 'it', 'a', 'case', 'in', 'point', 'these', 'coal', 'mine', 'the', 'very', 'heart', 'of', 'serbia', 's', 'economy', 'now', 'on', 'strike', 'only', 'a', 'handful', 'of', 'workers', 'guarding', 'equipment', 'but', 'with', 'a', 'week', 'of', 'electricity', 'reserves', 'these', 'engineers', 'are', 'worried', 'about', 'blackouts', 'we', 're', 'just', 'making', 'a', 'gesture', 'to', 'try', 'to', 'make', 'this', 'regime', 'come', 'to', 'its', 'senses', 'there', 'are', 'difficulties', 'too', 'spreading', 'the', 'word', 'about', 'the', 'strike', 'independent', 'radio', 'station', 'b-292', 'has', 'been', 'shut', 'down', 'three', 'times', 'its', 'signal', 'jammed', 'in', 'belgrade', 'leaving', 'journalists', 'frustrated', 'i', 'm', 'waiting', 'for', 'a', 'better', 'time', 'when', 'people', 'in', 'belgrade', 'can', 'hear', 'and', 'listening', 'my', 'radio', 'poorly', 'organized', 'opposition', 'rallies', 'have', 'been', 'shrinking', 'now', 'drawing', 'barely', '10', '000', 'in', 'belgrade', 'but', 'opposition', 'leaders', 'hope', 'all', 'that', 'will', 'change', 'tomorrow', 'and', 'civil', 'disobedience', 'throughout', 'the', 'land', 'may', 'give', 'new', 'life', 'to', 'their', 'struggle', 'to', 'oust', 'milosevic', 'jim', 'maceda', 'nbc', 'news', 'belgrade']\n"
     ]
    }
   ],
   "source": [
    "for char in \",.!?':;\\\"\":\n",
    "    content = content.replace(char, \" \")\n",
    "tokens = content.split()\n",
    "print(tokens)"
   ]
  },
  {
   "cell_type": "code",
   "execution_count": 4,
   "metadata": {},
   "outputs": [
    {
     "name": "stdout",
     "output_type": "stream",
     "text": [
      "['the', 'white', 'house', 'is', 'also', 'keeping', 'a', 'close', 'watch', 'on', 'yugoslavia', 'where', 'opposition', 'forces', 'are', 'about', 'to', 'step', 'up', 'the', 'pressure', 'on', 'president', 'slobodan', 'milosevic', 'but', 'will', 'it', 'work', 'nbc', 's', 'jim', 'maceda', 'is', 'in', 'belgrade', 'tonight', 'serbia', 'on', 'the', 'eve', 'of', 'a', 'general', 'strike', 'this', 'two-hour', 'roadblock', 'is', 'just', 'a', 'taste', 'of', 'what', 'will', 'come', 'tomorrow', 'says', 'the', 'opposition', 'when', 'a', 'nationwide', 'work', 'stoppage', 'is', 'to', 'begin', 'the', 'purpose', 'to', 'force', 'out', 'the', 'man', 'they', 'say', 'stole', 'the', 'presidential', 'election', 'slobodan', 'milosevic', 'the', 'people', 'don', 't', 'accept', 'to', 'be', 'victim', 'and', 'to', 'be', 'hostage', 'of', 'one', 'person', 'milosevic', 'time', 'is', 'working', 'against', 'him', 'now', 'but', 'will', 'the', 'pressure', 'work', 'four', 'years', 'ago', 'hundreds', 'of', 'thousands', 'of', 'serbs', 'marched', 'against', 'milosevic', 'calling', 'for', 'a', 'general', 'strike', 'as', 'well', 'the', 'protest', 'lasted', 'three', 'months', 'but', 'milosevic', 'survived', 'that', 's', 'the', 'real', 'question', 'does', 'the', 'opposition', 'have', 'the', 'power', 'to', 'confront', 'the', 'regime', 'with', 'its', 'combined', 'wealth', 'to', 'get', 'rid', 'of', 'it', 'a', 'case', 'in', 'point', 'these', 'coal', 'mine', 'the', 'very', 'heart', 'of', 'serbia', 's', 'economy', 'now', 'on', 'strike', 'only', 'a', 'handful', 'of', 'workers', 'guarding', 'equipment', 'but', 'with', 'a', 'week', 'of', 'electricity', 'reserves', 'these', 'engineers', 'are', 'worried', 'about', 'blackouts', 'we', 're', 'just', 'making', 'a', 'gesture', 'to', 'try', 'to', 'make', 'this', 'regime', 'come', 'to', 'its', 'senses', 'there', 'are', 'difficulties', 'too', 'spreading', 'the', 'word', 'about', 'the', 'strike', 'independent', 'radio', 'station', 'b-292', 'has', 'been', 'shut', 'down', 'three', 'times', 'its', 'signal', 'jammed', 'in', 'belgrade', 'leaving', 'journalists', 'frustrated', 'i', 'm', 'waiting', 'for', 'a', 'better', 'time', 'when', 'people', 'in', 'belgrade', 'can', 'hear', 'and', 'listening', 'my', 'radio', 'poorly', 'organized', 'opposition', 'rallies', 'have', 'been', 'shrinking', 'now', 'drawing', 'barely', '10', '000', 'in', 'belgrade', 'but', 'opposition', 'leaders', 'hope', 'all', 'that', 'will', 'change', 'tomorrow', 'and', 'civil', 'disobedience', 'throughout', 'the', 'land', 'may', 'give', 'new', 'life', 'to', 'their', 'struggle', 'to', 'oust', 'milosevic', 'jim', 'maceda', 'nbc', 'news', 'belgrade']\n"
     ]
    }
   ],
   "source": [
    "for i in range(len(tokens)):\n",
    "    tokens[i] = tokens[i].lower()\n",
    "print(tokens)"
   ]
  },
  {
   "cell_type": "code",
   "execution_count": 5,
   "metadata": {},
   "outputs": [],
   "source": [
    "import nltk\n",
    "from nltk.stem import PorterStemmer"
   ]
  },
  {
   "cell_type": "code",
   "execution_count": 6,
   "metadata": {},
   "outputs": [
    {
     "name": "stdout",
     "output_type": "stream",
     "text": [
      "['the', 'white', 'hous', 'is', 'also', 'keep', 'a', 'close', 'watch', 'on', 'yugoslavia', 'where', 'opposit', 'forc', 'are', 'about', 'to', 'step', 'up', 'the', 'pressur', 'on', 'presid', 'slobodan', 'milosev', 'but', 'will', 'it', 'work', 'nbc', 's', 'jim', 'maceda', 'is', 'in', 'belgrad', 'tonight', 'serbia', 'on', 'the', 'eve', 'of', 'a', 'gener', 'strike', 'thi', 'two-hour', 'roadblock', 'is', 'just', 'a', 'tast', 'of', 'what', 'will', 'come', 'tomorrow', 'say', 'the', 'opposit', 'when', 'a', 'nationwid', 'work', 'stoppag', 'is', 'to', 'begin', 'the', 'purpos', 'to', 'forc', 'out', 'the', 'man', 'they', 'say', 'stole', 'the', 'presidenti', 'elect', 'slobodan', 'milosev', 'the', 'peopl', 'don', 't', 'accept', 'to', 'be', 'victim', 'and', 'to', 'be', 'hostag', 'of', 'one', 'person', 'milosev', 'time', 'is', 'work', 'against', 'him', 'now', 'but', 'will', 'the', 'pressur', 'work', 'four', 'year', 'ago', 'hundr', 'of', 'thousand', 'of', 'serb', 'march', 'against', 'milosev', 'call', 'for', 'a', 'gener', 'strike', 'as', 'well', 'the', 'protest', 'last', 'three', 'month', 'but', 'milosev', 'surviv', 'that', 's', 'the', 'real', 'question', 'doe', 'the', 'opposit', 'have', 'the', 'power', 'to', 'confront', 'the', 'regim', 'with', 'it', 'combin', 'wealth', 'to', 'get', 'rid', 'of', 'it', 'a', 'case', 'in', 'point', 'these', 'coal', 'mine', 'the', 'veri', 'heart', 'of', 'serbia', 's', 'economi', 'now', 'on', 'strike', 'onli', 'a', 'hand', 'of', 'worker', 'guard', 'equip', 'but', 'with', 'a', 'week', 'of', 'electr', 'reserv', 'these', 'engin', 'are', 'worri', 'about', 'blackout', 'we', 're', 'just', 'make', 'a', 'gestur', 'to', 'tri', 'to', 'make', 'thi', 'regim', 'come', 'to', 'it', 'sens', 'there', 'are', 'difficulti', 'too', 'spread', 'the', 'word', 'about', 'the', 'strike', 'independ', 'radio', 'station', 'b-292', 'ha', 'been', 'shut', 'down', 'three', 'time', 'it', 'signal', 'jam', 'in', 'belgrad', 'leav', 'journalist', 'frustrat', 'i', 'm', 'wait', 'for', 'a', 'better', 'time', 'when', 'peopl', 'in', 'belgrad', 'can', 'hear', 'and', 'listen', 'my', 'radio', 'poorli', 'organ', 'opposit', 'ralli', 'have', 'been', 'shrink', 'now', 'draw', 'bare', '10', '000', 'in', 'belgrad', 'but', 'opposit', 'leader', 'hope', 'all', 'that', 'will', 'chang', 'tomorrow', 'and', 'civil', 'disobedi', 'throughout', 'the', 'land', 'may', 'give', 'new', 'life', 'to', 'their', 'struggl', 'to', 'oust', 'milosev', 'jim', 'maceda', 'nbc', 'news', 'belgrad']\n"
     ]
    }
   ],
   "source": [
    "stemmer = PorterStemmer()\n",
    "stemmed_words = [stemmer.stem(word) for word in tokens]\n",
    "print(stemmed_words)"
   ]
  },
  {
   "cell_type": "code",
   "execution_count": 7,
   "metadata": {},
   "outputs": [],
   "source": [
    "def calculate_frequencies(text):\n",
    "    frequency_dict = {}\n",
    "\n",
    "    for token in text:\n",
    "        if token in frequency_dict:\n",
    "            frequency_dict[token] += 1\n",
    "        else:\n",
    "            frequency_dict[token] = 1\n",
    "    \n",
    "    sorted_fre = sorted(frequency_dict.items(), key=lambda item: item[1], reverse=True)\n",
    "    return sorted_fre"
   ]
  },
  {
   "cell_type": "code",
   "execution_count": 8,
   "metadata": {},
   "outputs": [
    {
     "name": "stdout",
     "output_type": "stream",
     "text": [
      "[('the', 18), ('to', 12), ('a', 10), ('of', 9), ('milosev', 6), ('is', 5), ('opposit', 5), ('but', 5), ('it', 5), ('in', 5), ('belgrad', 5), ('on', 4), ('will', 4), ('work', 4), ('strike', 4), ('are', 3), ('about', 3), ('s', 3), ('and', 3), ('time', 3), ('now', 3), ('forc', 2), ('pressur', 2), ('slobodan', 2), ('nbc', 2), ('jim', 2), ('maceda', 2), ('serbia', 2), ('gener', 2), ('thi', 2), ('just', 2), ('come', 2), ('tomorrow', 2), ('say', 2), ('when', 2), ('peopl', 2), ('be', 2), ('against', 2), ('for', 2), ('three', 2), ('that', 2), ('have', 2), ('regim', 2), ('with', 2), ('these', 2), ('make', 2), ('radio', 2), ('been', 2), ('white', 1), ('hous', 1), ('also', 1), ('keep', 1), ('close', 1), ('watch', 1), ('yugoslavia', 1), ('where', 1), ('step', 1), ('up', 1), ('presid', 1), ('tonight', 1), ('eve', 1), ('two-hour', 1), ('roadblock', 1), ('tast', 1), ('what', 1), ('nationwid', 1), ('stoppag', 1), ('begin', 1), ('purpos', 1), ('out', 1), ('man', 1), ('they', 1), ('stole', 1), ('presidenti', 1), ('elect', 1), ('don', 1), ('t', 1), ('accept', 1), ('victim', 1), ('hostag', 1), ('one', 1), ('person', 1), ('him', 1), ('four', 1), ('year', 1), ('ago', 1), ('hundr', 1), ('thousand', 1), ('serb', 1), ('march', 1), ('call', 1), ('as', 1), ('well', 1), ('protest', 1), ('last', 1), ('month', 1), ('surviv', 1), ('real', 1), ('question', 1), ('doe', 1), ('power', 1), ('confront', 1), ('combin', 1), ('wealth', 1), ('get', 1), ('rid', 1), ('case', 1), ('point', 1), ('coal', 1), ('mine', 1), ('veri', 1), ('heart', 1), ('economi', 1), ('onli', 1), ('hand', 1), ('worker', 1), ('guard', 1), ('equip', 1), ('week', 1), ('electr', 1), ('reserv', 1), ('engin', 1), ('worri', 1), ('blackout', 1), ('we', 1), ('re', 1), ('gestur', 1), ('tri', 1), ('sens', 1), ('there', 1), ('difficulti', 1), ('too', 1), ('spread', 1), ('word', 1), ('independ', 1), ('station', 1), ('b-292', 1), ('ha', 1), ('shut', 1), ('down', 1), ('signal', 1), ('jam', 1), ('leav', 1), ('journalist', 1), ('frustrat', 1), ('i', 1), ('m', 1), ('wait', 1), ('better', 1), ('can', 1), ('hear', 1), ('listen', 1), ('my', 1), ('poorli', 1), ('organ', 1), ('ralli', 1), ('shrink', 1), ('draw', 1), ('bare', 1), ('10', 1), ('000', 1), ('leader', 1), ('hope', 1), ('all', 1), ('chang', 1), ('civil', 1), ('disobedi', 1), ('throughout', 1), ('land', 1), ('may', 1), ('give', 1), ('new', 1), ('life', 1), ('their', 1), ('struggl', 1), ('oust', 1), ('news', 1)]\n"
     ]
    }
   ],
   "source": [
    "fre_word = calculate_frequencies(stemmed_words)\n",
    "print(fre_word)"
   ]
  },
  {
   "cell_type": "code",
   "execution_count": 9,
   "metadata": {},
   "outputs": [
    {
     "name": "stdout",
     "output_type": "stream",
     "text": [
      "['white', 'hous', 'also', 'keep', 'close', 'watch', 'yugoslavia', 'opposit', 'forc', 'step', 'pressur', 'presid', 'slobodan', 'milosev', 'work', 'nbc', 'jim', 'maceda', 'belgrad', 'tonight', 'serbia', 'eve', 'gener', 'strike', 'thi', 'two-hour', 'roadblock', 'tast', 'come', 'tomorrow', 'say', 'opposit', 'nationwid', 'work', 'stoppag', 'begin', 'purpos', 'forc', 'man', 'say', 'stole', 'presidenti', 'elect', 'slobodan', 'milosev', 'peopl', 'accept', 'victim', 'hostag', 'one', 'person', 'milosev', 'time', 'work', 'pressur', 'work', 'four', 'year', 'ago', 'hundr', 'thousand', 'serb', 'march', 'milosev', 'call', 'gener', 'strike', 'well', 'protest', 'last', 'three', 'month', 'milosev', 'surviv', 'real', 'question', 'doe', 'opposit', 'power', 'confront', 'regim', 'combin', 'wealth', 'get', 'rid', 'case', 'point', 'coal', 'mine', 'veri', 'heart', 'serbia', 'economi', 'strike', 'onli', 'hand', 'worker', 'guard', 'equip', 'week', 'electr', 'reserv', 'engin', 'worri', 'blackout', 're', 'make', 'gestur', 'tri', 'make', 'thi', 'regim', 'come', 'sens', 'difficulti', 'spread', 'word', 'strike', 'independ', 'radio', 'station', 'b-292', 'ha', 'shut', 'three', 'time', 'signal', 'jam', 'belgrad', 'leav', 'journalist', 'frustrat', 'm', 'wait', 'better', 'time', 'peopl', 'belgrad', 'hear', 'listen', 'radio', 'poorli', 'organ', 'opposit', 'ralli', 'shrink', 'draw', 'bare', '10', '000', 'belgrad', 'opposit', 'leader', 'hope', 'chang', 'tomorrow', 'civil', 'disobedi', 'throughout', 'land', 'may', 'give', 'new', 'life', 'struggl', 'oust', 'milosev', 'jim', 'maceda', 'nbc', 'news', 'belgrad']\n"
     ]
    }
   ],
   "source": [
    "stop_words = [\n",
    "    'i', 'me', 'my', 'myself', 'we', 'our', 'ours', 'ourselves', 'you', 'your', 'yours', \n",
    "    'yourself', 'yourselves', 'he', 'him', 'his', 'himself', 'she', 'her', 'hers', 'herself', \n",
    "    'it', 'its', 'itself', 'they', 'them', 'their', 'theirs', 'themselves', 'what', 'which', \n",
    "    'who', 'whom', 'this', 'that', 'these', 'those', 'am', 'is', 'are', 'was', 'were', 'be', \n",
    "    'been', 'being', 'have', 'has', 'had', 'having', 'do', 'does', 'did', 'doing', 'a', 'an', \n",
    "    'the', 'and', 'but', 'if', 'or', 'because', 'as', 'until', 'while', 'of', 'at', 'by', 'for', \n",
    "    'with', 'about', 'against', 'between', 'into', 'through', 'during', 'before', 'after', \n",
    "    'above', 'below', 'to', 'from', 'up', 'down', 'in', 'out', 'on', 'off', 'over', 'under', \n",
    "    'again', 'further', 'then', 'once', 'here', 'there', 'when', 'where', 'why', 'how', 'all', \n",
    "    'any', 'both', 'each', 'few', 'more', 'most', 'other', 'some', 'such', 'no', 'nor', 'not', \n",
    "    'only', 'own', 'same', 'so', 'than', 'too', 'very', 's', 't', 'can', 'will', 'just', 'don', \n",
    "    'should', 'now'\n",
    "]\n",
    "\n",
    "filtered_words = [word for word in stemmed_words if word not in stop_words]\n",
    "print(filtered_words)\n",
    "# after_fre = calculate_frequencies(filtered_words)\n",
    "# print(after_fre)"
   ]
  },
  {
   "cell_type": "code",
   "execution_count": 10,
   "metadata": {},
   "outputs": [],
   "source": [
    "file_path = 'result.txt' \n",
    "with open(file_path, 'w') as file:\n",
    "        for word in filtered_words:\n",
    "            file.write(word + '\\n')"
   ]
  }
 ],
 "metadata": {
  "kernelspec": {
   "display_name": "Python 3",
   "language": "python",
   "name": "python3"
  },
  "language_info": {
   "codemirror_mode": {
    "name": "ipython",
    "version": 3
   },
   "file_extension": ".py",
   "mimetype": "text/x-python",
   "name": "python",
   "nbconvert_exporter": "python",
   "pygments_lexer": "ipython3",
   "version": "3.12.6"
  }
 },
 "nbformat": 4,
 "nbformat_minor": 2
}
